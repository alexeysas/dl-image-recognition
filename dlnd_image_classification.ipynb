{
 "cells": [
  {
   "cell_type": "markdown",
   "metadata": {
    "collapsed": true
   },
   "source": [
    "# Image Classification\n",
    "In this project, you'll classify images from the [CIFAR-10 dataset](https://www.cs.toronto.edu/~kriz/cifar.html).  The dataset consists of airplanes, dogs, cats, and other objects. You'll preprocess the images, then train a convolutional neural network on all the samples. The images need to be normalized and the labels need to be one-hot encoded.  You'll get to apply what you learned and build a convolutional, max pooling, dropout, and fully connected layers.  At the end, you'll get to see your neural network's predictions on the sample images.\n",
    "## Get the Data\n",
    "Run the following cell to download the [CIFAR-10 dataset for python](https://www.cs.toronto.edu/~kriz/cifar-10-python.tar.gz)."
   ]
  },
  {
   "cell_type": "code",
   "execution_count": 1,
   "metadata": {
    "collapsed": false
   },
   "outputs": [
    {
     "name": "stdout",
     "output_type": "stream",
     "text": [
      "All files found!\n"
     ]
    }
   ],
   "source": [
    "\"\"\"\n",
    "DON'T MODIFY ANYTHING IN THIS CELL THAT IS BELOW THIS LINE\n",
    "\"\"\"\n",
    "from urllib.request import urlretrieve\n",
    "from os.path import isfile, isdir\n",
    "from tqdm import tqdm\n",
    "import problem_unittests as tests\n",
    "import tarfile\n",
    "\n",
    "cifar10_dataset_folder_path = 'cifar-10-batches-py'\n",
    "\n",
    "class DLProgress(tqdm):\n",
    "    last_block = 0\n",
    "\n",
    "    def hook(self, block_num=1, block_size=1, total_size=None):\n",
    "        self.total = total_size\n",
    "        self.update((block_num - self.last_block) * block_size)\n",
    "        self.last_block = block_num\n",
    "\n",
    "if not isfile('cifar-10-python.tar.gz'):\n",
    "    with DLProgress(unit='B', unit_scale=True, miniters=1, desc='CIFAR-10 Dataset') as pbar:\n",
    "        urlretrieve(\n",
    "            'https://www.cs.toronto.edu/~kriz/cifar-10-python.tar.gz',\n",
    "            'cifar-10-python.tar.gz',\n",
    "            pbar.hook)\n",
    "\n",
    "if not isdir(cifar10_dataset_folder_path):\n",
    "    with tarfile.open('cifar-10-python.tar.gz') as tar:\n",
    "        tar.extractall()\n",
    "        tar.close()\n",
    "\n",
    "\n",
    "tests.test_folder_path(cifar10_dataset_folder_path)"
   ]
  },
  {
   "cell_type": "markdown",
   "metadata": {},
   "source": [
    "## Explore the Data\n",
    "The dataset is broken into batches to prevent your machine from running out of memory.  The CIFAR-10 dataset consists of 5 batches, named `data_batch_1`, `data_batch_2`, etc.. Each batch contains the labels and images that are one of the following:\n",
    "* airplane\n",
    "* automobile\n",
    "* bird\n",
    "* cat\n",
    "* deer\n",
    "* dog\n",
    "* frog\n",
    "* horse\n",
    "* ship\n",
    "* truck\n",
    "\n",
    "Understanding a dataset is part of making predictions on the data.  Play around with the code cell below by changing the `batch_id` and `sample_id`. The `batch_id` is the id for a batch (1-5). The `sample_id` is the id for a image and label pair in the batch.\n",
    "\n",
    "Ask yourself \"What are all possible labels?\", \"What is the range of values for the image data?\", \"Are the labels in order or random?\".  Answers to questions like these will help you preprocess the data and end up with better predictions."
   ]
  },
  {
   "cell_type": "code",
   "execution_count": 2,
   "metadata": {
    "collapsed": false
   },
   "outputs": [
    {
     "name": "stdout",
     "output_type": "stream",
     "text": [
      "\n",
      "Stats of batch 2:\n",
      "Samples: 10000\n",
      "Label Counts: {0: 984, 1: 1007, 2: 1010, 3: 995, 4: 1010, 5: 988, 6: 1008, 7: 1026, 8: 987, 9: 985}\n",
      "First 20 Labels: [1, 6, 6, 8, 8, 3, 4, 6, 0, 6, 0, 3, 6, 6, 5, 4, 8, 3, 2, 6]\n",
      "\n",
      "Example of Image 22:\n",
      "Image - Min Value: 26 Max Value: 255\n",
      "Image - Shape: (32, 32, 3)\n",
      "Label - Label Id: 1 Name: automobile\n"
     ]
    },
    {
     "data": {
      "image/png": "[encoded data removed]",
      "text/plain": [
       "<matplotlib.figure.Figure at 0x7f43ac4deac8>"
      ]
     },
     "metadata": {
      "image/png": {
       "height": 250,
       "width": 253
      }
     },
     "output_type": "display_data"
    }
   ],
   "source": [
    "%matplotlib inline\n",
    "%config InlineBackend.figure_format = 'retina'\n",
    "\n",
    "import helper\n",
    "import numpy as np\n",
    "\n",
    "# Explore the dataset\n",
    "batch_id = 2\n",
    "sample_id = 22\n",
    "\n",
    "helper.display_stats(cifar10_dataset_folder_path, batch_id, sample_id)"
   ]
  },
  {
   "cell_type": "markdown",
   "metadata": {},
   "source": [
    "## Implement Preprocess Functions\n",
    "### Normalize\n",
    "In the cell below, implement the `normalize` function to take in image data, `x`, and return it as a normalized Numpy array. The values should be in the range of 0 to 1, inclusive.  The return object should be the same shape as `x`."
   ]
  },
  {
   "cell_type": "code",
   "execution_count": 3,
   "metadata": {
    "collapsed": false
   },
   "outputs": [
    {
     "name": "stdout",
     "output_type": "stream",
     "text": [
      "Tests Passed\n"
     ]
    }
   ],
   "source": [
    "def normalize(x):\n",
    "    \"\"\"\n",
    "    Normalize a list of sample image data in the range of 0 to 1\n",
    "    : x: List of image data.  The image shape is (32, 32, 3)\n",
    "    : return: Numpy array of normalize data\n",
    "    \"\"\"\n",
    "    # TODO: Implement Function\n",
    "    min = np.min(x)\n",
    "    max = np.max(x)\n",
    "    x = (x - min) / (float(max - min))\n",
    " \n",
    "    return  x\n",
    "\n",
    "\"\"\"\n",
    "DON'T MODIFY ANYTHING IN THIS CELL THAT IS BELOW THIS LINE\n",
    "\"\"\"\n",
    "tests.test_normalize(normalize)"
   ]
  },
  {
   "cell_type": "markdown",
   "metadata": {},
   "source": [
    "### One-hot encode\n",
    "Just like the previous code cell, you'll be implementing a function for preprocessing.  This time, you'll implement the `one_hot_encode` function. The input, `x`, are a list of labels.  Implement the function to return the list of labels as One-Hot encoded Numpy array.  The possible values for labels are 0 to 9. The one-hot encoding function should return the same encoding for each value between each call to `one_hot_encode`.  Make sure to save the map of encodings outside the function.\n",
    "\n",
    "Hint: Don't reinvent the wheel."
   ]
  },
  {
   "cell_type": "code",
   "execution_count": 4,
   "metadata": {
    "collapsed": false
   },
   "outputs": [
    {
     "name": "stdout",
     "output_type": "stream",
     "text": [
      "Tests Passed\n"
     ]
    }
   ],
   "source": [
    "from sklearn.preprocessing import LabelBinarizer\n",
    "enc = LabelBinarizer()\n",
    "is_fit = False\n",
    "    \n",
    "def one_hot_encode(x):\n",
    "    \"\"\"\n",
    "    One hot encode a list of sample labels. Return a one-hot encoded vector for each label.\n",
    "    : x: List of sample Labels\n",
    "    : return: Numpy array of one-hot encoded labels\n",
    "    \"\"\"\n",
    "    global is_fit\n",
    "    \n",
    "    if not is_fit:\n",
    "        enc.fit(x)\n",
    "        is_fit = True\n",
    "    \n",
    "    return enc.transform(x)\n",
    "\n",
    "\"\"\"\n",
    "DON'T MODIFY ANYTHING IN THIS CELL THAT IS BELOW THIS LINE\n",
    "\"\"\"\n",
    "tests.test_one_hot_encode(one_hot_encode)"
   ]
  },
  {
   "cell_type": "markdown",
   "metadata": {},
   "source": [
    "### Randomize Data\n",
    "As you saw from exploring the data above, the order of the samples are randomized.  It doesn't hurt to randomize it again, but you don't need to for this dataset."
   ]
  },
  {
   "cell_type": "markdown",
   "metadata": {},
   "source": [
    "## Preprocess all the data and save it\n",
    "Running the code cell below will preprocess all the CIFAR-10 data and save it to file. The code below also uses 10% of the training data for validation."
   ]
  },
  {
   "cell_type": "code",
   "execution_count": 5,
   "metadata": {
    "collapsed": false
   },
   "outputs": [],
   "source": [
    "\"\"\"\n",
    "DON'T MODIFY ANYTHING IN THIS CELL\n",
    "\"\"\"\n",
    "# Preprocess Training, Validation, and Testing Data\n",
    "helper.preprocess_and_save_data(cifar10_dataset_folder_path, normalize, one_hot_encode)"
   ]
  },
  {
   "cell_type": "markdown",
   "metadata": {},
   "source": [
    "# Check Point\n",
    "This is your first checkpoint.  If you ever decide to come back to this notebook or have to restart the notebook, you can start from here.  The preprocessed data has been saved to disk."
   ]
  },
  {
   "cell_type": "code",
   "execution_count": 6,
   "metadata": {
    "collapsed": true
   },
   "outputs": [],
   "source": [
    "\"\"\"\n",
    "DON'T MODIFY ANYTHING IN THIS CELL\n",
    "\"\"\"\n",
    "import pickle\n",
    "import problem_unittests as tests\n",
    "import helper\n",
    "\n",
    "# Load the Preprocessed Validation data\n",
    "valid_features, valid_labels = pickle.load(open('preprocess_validation.p', mode='rb'))"
   ]
  },
  {
   "cell_type": "markdown",
   "metadata": {},
   "source": [
    "## Build the network\n",
    "For the neural network, you'll build each layer into a function.  Most of the code you've seen has been outside of functions. To test your code more thoroughly, we require that you put each layer in a function.  This allows us to give you better feedback and test for simple mistakes using our unittests before you submit your project.\n",
    "\n",
    ">**Note:** If you're finding it hard to dedicate enough time for this course each week, we've provided a small shortcut to this part of the project. In the next couple of problems, you'll have the option to use classes from the [TensorFlow Layers](https://www.tensorflow.org/api_docs/python/tf/layers) or [TensorFlow Layers (contrib)](https://www.tensorflow.org/api_guides/python/contrib.layers) packages to build each layer, except the layers you build in the \"Convolutional and Max Pooling Layer\" section.  TF Layers is similar to Keras's and TFLearn's abstraction to layers, so it's easy to pickup.\n",
    "\n",
    ">However, if you would like to get the most out of this course, try to solve all the problems _without_ using anything from the TF Layers packages. You **can** still use classes from other packages that happen to have the same name as ones you find in TF Layers! For example, instead of using the TF Layers version of the `conv2d` class, [tf.layers.conv2d](https://www.tensorflow.org/api_docs/python/tf/layers/conv2d), you would want to use the TF Neural Network version of `conv2d`, [tf.nn.conv2d](https://www.tensorflow.org/api_docs/python/tf/nn/conv2d). \n",
    "\n",
    "Let's begin!\n",
    "\n",
    "### Input\n",
    "The neural network needs to read the image data, one-hot encoded labels, and dropout keep probability. Implement the following functions\n",
    "* Implement `neural_net_image_input`\n",
    " * Return a [TF Placeholder](https://www.tensorflow.org/api_docs/python/tf/placeholder)\n",
    " * Set the shape using `image_shape` with batch size set to `None`.\n",
    " * Name the TensorFlow placeholder \"x\" using the TensorFlow `name` parameter in the [TF Placeholder](https://www.tensorflow.org/api_docs/python/tf/placeholder).\n",
    "* Implement `neural_net_label_input`\n",
    " * Return a [TF Placeholder](https://www.tensorflow.org/api_docs/python/tf/placeholder)\n",
    " * Set the shape using `n_classes` with batch size set to `None`.\n",
    " * Name the TensorFlow placeholder \"y\" using the TensorFlow `name` parameter in the [TF Placeholder](https://www.tensorflow.org/api_docs/python/tf/placeholder).\n",
    "* Implement `neural_net_keep_prob_input`\n",
    " * Return a [TF Placeholder](https://www.tensorflow.org/api_docs/python/tf/placeholder) for dropout keep probability.\n",
    " * Name the TensorFlow placeholder \"keep_prob\" using the TensorFlow `name` parameter in the [TF Placeholder](https://www.tensorflow.org/api_docs/python/tf/placeholder).\n",
    "\n",
    "These names will be used at the end of the project to load your saved model.\n",
    "\n",
    "Note: `None` for shapes in TensorFlow allow for a dynamic size."
   ]
  },
  {
   "cell_type": "code",
   "execution_count": 7,
   "metadata": {
    "collapsed": false
   },
   "outputs": [
    {
     "name": "stdout",
     "output_type": "stream",
     "text": [
      "Image Input Tests Passed.\n",
      "Label Input Tests Passed.\n",
      "Keep Prob Tests Passed.\n"
     ]
    }
   ],
   "source": [
    "import tensorflow as tf\n",
    "\n",
    "def neural_net_image_input(image_shape):\n",
    "    \"\"\"\n",
    "    Return a Tensor for a bach of image input\n",
    "    : image_shape: Shape of the images\n",
    "    : return: Tensor for image input.\n",
    "    \"\"\"\n",
    "    x = tf.placeholder(tf.float32, shape=[None, 32, 32, 3], name=\"x\")\n",
    "    \n",
    "    return x\n",
    "\n",
    "\n",
    "def neural_net_label_input(n_classes):\n",
    "    \"\"\"\n",
    "    Return a Tensor for a batch of label input\n",
    "    : n_classes: Number of classes\n",
    "    : return: Tensor for label input.\n",
    "    \"\"\"\n",
    "    y = tf.placeholder(tf.float32, shape=[None, 10], name=\"y\")\n",
    "  \n",
    "    return y\n",
    "\n",
    "\n",
    "def neural_net_keep_prob_input():\n",
    "    \"\"\"\n",
    "    Return a Tensor for keep probability\n",
    "    : return: Tensor for keep probability.\n",
    "    \"\"\"\n",
    "    keep_prob = tf.placeholder(tf.float32, shape = None, name=\"keep_prob\")\n",
    "    \n",
    "    return keep_prob\n",
    "\n",
    "\n",
    "\"\"\"\n",
    "DON'T MODIFY ANYTHING IN THIS CELL THAT IS BELOW THIS LINE\n",
    "\"\"\"\n",
    "tf.reset_default_graph()\n",
    "tests.test_nn_image_inputs(neural_net_image_input)\n",
    "tests.test_nn_label_inputs(neural_net_label_input)\n",
    "tests.test_nn_keep_prob_inputs(neural_net_keep_prob_input)"
   ]
  },
  {
   "cell_type": "markdown",
   "metadata": {},
   "source": [
    "### Convolution and Max Pooling Layer\n",
    "Convolution layers have a lot of success with images. For this code cell, you should implement the function `conv2d_maxpool` to apply convolution then max pooling:\n",
    "* Create the weight and bias using `conv_ksize`, `conv_num_outputs` and the shape of `x_tensor`.\n",
    "* Apply a convolution to `x_tensor` using weight and `conv_strides`.\n",
    " * We recommend you use same padding, but you're welcome to use any padding.\n",
    "* Add bias\n",
    "* Add a nonlinear activation to the convolution.\n",
    "* Apply Max Pooling using `pool_ksize` and `pool_strides`.\n",
    " * We recommend you use same padding, but you're welcome to use any padding.\n",
    "\n",
    "**Note:** You **can't** use [TensorFlow Layers](https://www.tensorflow.org/api_docs/python/tf/layers) or [TensorFlow Layers (contrib)](https://www.tensorflow.org/api_guides/python/contrib.layers) for **this** layer, but you can still use TensorFlow's [Neural Network](https://www.tensorflow.org/api_docs/python/tf/nn) package. You may still use the shortcut option for all the **other** layers."
   ]
  },
  {
   "cell_type": "code",
   "execution_count": 349,
   "metadata": {
    "collapsed": false
   },
   "outputs": [
    {
     "name": "stdout",
     "output_type": "stream",
     "text": [
      "Tests Passed\n"
     ]
    }
   ],
   "source": [
    "def conv2d_maxpool(x_tensor, conv_num_outputs, conv_ksize, conv_strides, pool_ksize, pool_strides):\n",
    "    \"\"\"\n",
    "    Apply convolution then max pooling to x_tensor\n",
    "    :param x_tensor: TensorFlow Tensor\n",
    "    :param conv_num_outputs: Number of outputs for the convolutional layer\n",
    "    :param conv_ksize: kernal size 2-D Tuple for the convolutional layer\n",
    "    :param conv_strides: Stride 2-D Tuple for convolution\n",
    "    :param pool_ksize: kernal size 2-D Tuple for pool\n",
    "    :param pool_strides: Stride 2-D Tuple for pool\n",
    "    : return: A tensor that represents convolution and max pooling of x_tensor\n",
    "    \"\"\"\n",
    "        \n",
    "    w = tf.Variable(tf.truncated_normal([conv_ksize[0], conv_ksize[1], x_tensor.get_shape().as_list()[3], conv_num_outputs],\n",
    "                                       dtype=tf.float32, stddev=0.1))\n",
    "    \n",
    "    b = tf.Variable(tf.zeros(shape = [conv_num_outputs]))\n",
    "    \n",
    "    conv = tf.nn.conv2d(x_tensor, w, strides = [1, conv_strides[0], conv_strides[1], 1], padding='SAME')\n",
    "    conv = tf.nn.bias_add(conv, b)\n",
    "    conv = tf.nn.relu(conv)    \n",
    "    \n",
    "    conv = tf.nn.max_pool(conv, ksize = [1, pool_ksize[0], pool_ksize[1], 1], \n",
    "                          strides = [1, pool_strides[0], pool_strides[1], 1],\n",
    "                          padding = 'SAME')\n",
    "    \n",
    "    return conv\n",
    "\n",
    "\n",
    "\"\"\"\n",
    "DON'T MODIFY ANYTHING IN THIS CELL THAT IS BELOW THIS LINE\n",
    "\"\"\"\n",
    "tests.test_con_pool(conv2d_maxpool)"
   ]
  },
  {
   "cell_type": "markdown",
   "metadata": {},
   "source": [
    "### Flatten Layer\n",
    "Implement the `flatten` function to change the dimension of `x_tensor` from a 4-D tensor to a 2-D tensor.  The output should be the shape (*Batch Size*, *Flattened Image Size*). Shortcut option: you can use classes from the [TensorFlow Layers](https://www.tensorflow.org/api_docs/python/tf/layers) or [TensorFlow Layers (contrib)](https://www.tensorflow.org/api_guides/python/contrib.layers) packages for this layer. For more of a challenge, only use other TensorFlow packages."
   ]
  },
  {
   "cell_type": "code",
   "execution_count": 182,
   "metadata": {
    "collapsed": false
   },
   "outputs": [
    {
     "name": "stdout",
     "output_type": "stream",
     "text": [
      "Tests Passed\n"
     ]
    }
   ],
   "source": [
    "def flatten(x_tensor):\n",
    "    \"\"\"\n",
    "    Flatten x_tensor to (Batch Size, Flattened Image Size)\n",
    "    : x_tensor: A tensor of size (Batch Size, ...), where ... are the image dimensions.\n",
    "    : return: A tensor of size (Batch Size, Flattened Image Size).\n",
    "    \"\"\"\n",
    "    current_shape = x_tensor.get_shape().as_list()\n",
    "    return tf.reshape(x_tensor, [-1, current_shape[1] * current_shape[2] * current_shape[3]])\n",
    "\"\"\"\n",
    "DON'T MODIFY ANYTHING IN THIS CELL THAT IS BELOW THIS LINE\n",
    "\"\"\"\n",
    "tests.test_flatten(flatten)"
   ]
  },
  {
   "cell_type": "markdown",
   "metadata": {},
   "source": [
    "### Fully-Connected Layer\n",
    "Implement the `fully_conn` function to apply a fully connected layer to `x_tensor` with the shape (*Batch Size*, *num_outputs*). Shortcut option: you can use classes from the [TensorFlow Layers](https://www.tensorflow.org/api_docs/python/tf/layers) or [TensorFlow Layers (contrib)](https://www.tensorflow.org/api_guides/python/contrib.layers) packages for this layer. For more of a challenge, only use other TensorFlow packages."
   ]
  },
  {
   "cell_type": "code",
   "execution_count": 365,
   "metadata": {
    "collapsed": false
   },
   "outputs": [
    {
     "name": "stdout",
     "output_type": "stream",
     "text": [
      "Tests Passed\n"
     ]
    }
   ],
   "source": [
    "def fully_conn_without_activation(x_tensor, num_outputs):\n",
    "    current_shape = x_tensor.get_shape().as_list()\n",
    "    \n",
    "    w = tf.Variable(tf.truncated_normal([current_shape[1],  num_outputs], dtype=tf.float32, stddev=0.1))\n",
    "    b = tf.Variable(tf.zeros(shape = [ num_outputs]))\n",
    "  \n",
    "    res = tf.add(tf.matmul(x_tensor, w), b)\n",
    "    return res\n",
    "\n",
    "def fully_conn(x_tensor, num_outputs):\n",
    "    \"\"\"\n",
    "    Apply a fully connected layer to x_tensor using weight and bias\n",
    "    : x_tensor: A 2-D tensor where the first dimension is batch size.\n",
    "    : num_outputs: The number of output that the new tensor should be.\n",
    "    : return: A 2-D tensor where the second dimension is num_outputs.\n",
    "    \"\"\"\n",
    "    res = fully_conn_without_activation(x_tensor, num_outputs)\n",
    "    res = tf.nn.relu(res)    \n",
    "    \n",
    "    return res\n",
    "\n",
    "\"\"\"\n",
    "DON'T MODIFY ANYTHING IN THIS CELL THAT IS BELOW THIS LINE\n",
    "\"\"\"\n",
    "tests.test_fully_conn(fully_conn)"
   ]
  },
  {
   "cell_type": "markdown",
   "metadata": {},
   "source": [
    "### Output Layer\n",
    "Implement the `output` function to apply a fully connected layer to `x_tensor` with the shape (*Batch Size*, *num_outputs*). Shortcut option: you can use classes from the [TensorFlow Layers](https://www.tensorflow.org/api_docs/python/tf/layers) or [TensorFlow Layers (contrib)](https://www.tensorflow.org/api_guides/python/contrib.layers) packages for this layer. For more of a challenge, only use other TensorFlow packages.\n",
    "\n",
    "**Note:** Activation, softmax, or cross entropy should **not** be applied to this."
   ]
  },
  {
   "cell_type": "code",
   "execution_count": 366,
   "metadata": {
    "collapsed": false
   },
   "outputs": [
    {
     "name": "stdout",
     "output_type": "stream",
     "text": [
      "Tests Passed\n"
     ]
    }
   ],
   "source": [
    "def output(x_tensor, num_outputs):\n",
    "    \"\"\"\n",
    "    Apply a output layer to x_tensor using weight and bias\n",
    "    : x_tensor: A 2-D tensor where the first dimension is batch size.\n",
    "    : num_outputs: The number of output that the new tensor should be.\n",
    "    : return: A 2-D tensor where the second dimension is num_outputs.\n",
    "    \"\"\"\n",
    "  \n",
    "    return fully_conn_without_activation(x_tensor, num_outputs)\n",
    " \n",
    "\n",
    "\"\"\"\n",
    "DON'T MODIFY ANYTHING IN THIS CELL THAT IS BELOW THIS LINE\n",
    "\"\"\"\n",
    "tests.test_output(output)"
   ]
  },
  {
   "cell_type": "markdown",
   "metadata": {},
   "source": [
    "### Create Convolutional Model\n",
    "Implement the function `conv_net` to create a convolutional neural network model. The function takes in a batch of images, `x`, and outputs logits.  Use the layers you created above to create this model:\n",
    "\n",
    "* Apply 1, 2, or 3 Convolution and Max Pool layers\n",
    "* Apply a Flatten Layer\n",
    "* Apply 1, 2, or 3 Fully Connected Layers\n",
    "* Apply an Output Layer\n",
    "* Return the output\n",
    "* Apply [TensorFlow's Dropout](https://www.tensorflow.org/api_docs/python/tf/nn/dropout) to one or more layers in the model using `keep_prob`. "
   ]
  },
  {
   "cell_type": "code",
   "execution_count": 367,
   "metadata": {
    "collapsed": false
   },
   "outputs": [
    {
     "name": "stdout",
     "output_type": "stream",
     "text": [
      "Neural Network Built!\n"
     ]
    }
   ],
   "source": [
    "def conv_net(x, keep_prob):\n",
    "    \"\"\"\n",
    "    Create a convolutional neural network model\n",
    "    : x: Placeholder tensor that holds image data.\n",
    "    : keep_prob: Placeholder tensor that hold dropout keep probability.\n",
    "    : return: Tensor that represents logits\n",
    "    \"\"\"\n",
    "    # TODO: Apply 1, 2, or 3 Convolution and Max Pool layers\n",
    "    #    Play around with different number of outputs, kernel size and stride\n",
    "    # Function Definition from Above:\n",
    "    #    conv2d_maxpool(x_tensor, conv_num_outputs, conv_ksize, conv_strides, pool_ksize, pool_strides)\n",
    "  \n",
    "    conv = conv2d_maxpool(x, 64, (3, 3), (1, 1), (2, 2), (2, 2))\n",
    "    conv = conv2d_maxpool(conv, 128, (3, 3), (1, 1), (2, 2), (2, 2))\n",
    "    conv = conv2d_maxpool(conv, 256, (5, 5), (1, 1), (2, 2), (2, 2))\n",
    "    \n",
    "    # TODO: Apply a Flatten Layer\n",
    "    # Function Definition from Above:\n",
    "    #   flatten(x_tensor)\n",
    "    \n",
    "    conv = flatten(conv)\n",
    "    \n",
    "    # TODO: Apply 1, 2, or 3 Fully Connected Layers\n",
    "    #    Play around with different number of outputs\n",
    "    # Function Definition from Above:\n",
    "    #   fully_conn(x_tensor, num_outputs)\n",
    "    \n",
    "    conv = fully_conn(conv, 512)\n",
    "    conv = tf.nn.dropout(conv, keep_prob)\n",
    "    conv = fully_conn(conv, 512)\n",
    "    conv = tf.nn.dropout(conv, keep_prob)\n",
    "    \n",
    "    \n",
    "    # TODO: Apply an Output Layer\n",
    "    #    Set this to the number of classes\n",
    "    # Function Definition from Above:\n",
    "    #   output(x_tensor, num_outputs)\n",
    "    out = output(conv, 10)\n",
    "        \n",
    "    # TODO: return output\n",
    "    return out\n",
    "\n",
    "\n",
    "\"\"\"\n",
    "DON'T MODIFY ANYTHING IN THIS CELL THAT IS BELOW THIS LINE\n",
    "\"\"\"\n",
    "\n",
    "##############################\n",
    "## Build the Neural Network ##\n",
    "##############################\n",
    "\n",
    "# Remove previous weights, bias, inputs, etc..\n",
    "tf.reset_default_graph()\n",
    "\n",
    "# Inputs\n",
    "x = neural_net_image_input((32, 32, 3))\n",
    "y = neural_net_label_input(10)\n",
    "keep_prob = neural_net_keep_prob_input()\n",
    "\n",
    "# Model\n",
    "logits = conv_net(x, keep_prob)\n",
    "\n",
    "# Name logits Tensor, so that is can be loaded from disk after training\n",
    "logits = tf.identity(logits, name='logits')\n",
    "\n",
    "# Loss and Optimizer\n",
    "cost = tf.reduce_mean(tf.nn.softmax_cross_entropy_with_logits(logits=logits, labels=y))\n",
    "optimizer = tf.train.AdamOptimizer().minimize(cost)\n",
    "\n",
    "# Accuracy\n",
    "correct_pred = tf.equal(tf.argmax(logits, 1), tf.argmax(y, 1))\n",
    "accuracy = tf.reduce_mean(tf.cast(correct_pred, tf.float32), name='accuracy')\n",
    "\n",
    "tests.test_conv_net(conv_net)"
   ]
  },
  {
   "cell_type": "markdown",
   "metadata": {},
   "source": [
    "## Train the Neural Network\n",
    "### Single Optimization\n",
    "Implement the function `train_neural_network` to do a single optimization.  The optimization should use `optimizer` to optimize in `session` with a `feed_dict` of the following:\n",
    "* `x` for image input\n",
    "* `y` for labels\n",
    "* `keep_prob` for keep probability for dropout\n",
    "\n",
    "This function will be called for each batch, so `tf.global_variables_initializer()` has already been called.\n",
    "\n",
    "Note: Nothing needs to be returned. This function is only optimizing the neural network."
   ]
  },
  {
   "cell_type": "code",
   "execution_count": 313,
   "metadata": {
    "collapsed": false
   },
   "outputs": [
    {
     "name": "stdout",
     "output_type": "stream",
     "text": [
      "Tests Passed\n"
     ]
    }
   ],
   "source": [
    "def train_neural_network(session, optimizer, keep_probability, feature_batch, label_batch):\n",
    "    \"\"\"\n",
    "    Optimize the session on a batch of images and labels\n",
    "    : session: Current TensorFlow session\n",
    "    : optimizer: TensorFlow optimizer function\n",
    "    : keep_probability: keep probability\n",
    "    : feature_batch: Batch of Numpy image data\n",
    "    : label_batch: Batch of Numpy label data\n",
    "    \"\"\"\n",
    "    session.run(optimizer, feed_dict = { 'x:0': feature_batch, 'y:0': label_batch,  'keep_prob:0': keep_probability })\n",
    "    pass\n",
    "\n",
    "\n",
    "\"\"\"\n",
    "DON'T MODIFY ANYTHING IN THIS CELL THAT IS BELOW THIS LINE\n",
    "\"\"\"\n",
    "tests.test_train_nn(train_neural_network)"
   ]
  },
  {
   "cell_type": "markdown",
   "metadata": {},
   "source": [
    "### Show Stats\n",
    "Implement the function `print_stats` to print loss and validation accuracy.  Use the global variables `valid_features` and `valid_labels` to calculate validation accuracy.  Use a keep probability of `1.0` to calculate the loss and validation accuracy."
   ]
  },
  {
   "cell_type": "code",
   "execution_count": 188,
   "metadata": {
    "collapsed": false
   },
   "outputs": [],
   "source": [
    "def print_stats(session, feature_batch, label_batch, cost, accuracy):\n",
    "    \"\"\"\n",
    "    Print information about loss and validation accuracy\n",
    "    : session: Current TensorFlow session\n",
    "    : feature_batch: Batch of Numpy image data\n",
    "    : label_batch: Batch of Numpy label data\n",
    "    : cost: TensorFlow cost function\n",
    "    : accuracy: TensorFlow accuracy function\n",
    "    \"\"\"\n",
    "        \n",
    "    cost = session.run(cost, feed_dict = { x: feature_batch, y:label_batch,  keep_prob: 1.0 })\n",
    "    accuracy = session.run(accuracy, feed_dict = { x: valid_features, y: valid_labels,  keep_prob: 1.0 })\n",
    "    \n",
    "    print('Loss: {0:10.4f} Accuracy: {1:0.6f}'.format(cost, accuracy))    \n",
    "    pass"
   ]
  },
  {
   "cell_type": "markdown",
   "metadata": {},
   "source": [
    "### Hyperparameters\n",
    "Tune the following parameters:\n",
    "* Set `epochs` to the number of iterations until the network stops learning or start overfitting\n",
    "* Set `batch_size` to the highest number that your machine has memory for.  Most people set them to common sizes of memory:\n",
    " * 64\n",
    " * 128\n",
    " * 256\n",
    " * ...\n",
    "* Set `keep_probability` to the probability of keeping a node using dropout"
   ]
  },
  {
   "cell_type": "code",
   "execution_count": 361,
   "metadata": {
    "collapsed": false
   },
   "outputs": [],
   "source": [
    "# TODO: Tune Parameters\n",
    "epochs = 50\n",
    "batch_size = 2048\n",
    "keep_probability = 0.5"
   ]
  },
  {
   "cell_type": "markdown",
   "metadata": {},
   "source": [
    "### Train on a Single CIFAR-10 Batch\n",
    "Instead of training the neural network on all the CIFAR-10 batches of data, let's use a single batch. This should save time while you iterate on the model to get a better accuracy.  Once the final validation accuracy is 50% or greater, run the model on all the data in the next section."
   ]
  },
  {
   "cell_type": "code",
   "execution_count": 368,
   "metadata": {
    "collapsed": false
   },
   "outputs": [
    {
     "name": "stdout",
     "output_type": "stream",
     "text": [
      "Checking the Training on a Single Batch...\n",
      "Epoch  1, CIFAR-10 Batch 1:  Loss:     2.3611 Accuracy: 0.165000\n",
      "Epoch  2, CIFAR-10 Batch 1:  Loss:     2.2184 Accuracy: 0.171200\n",
      "Epoch  3, CIFAR-10 Batch 1:  Loss:     2.2349 Accuracy: 0.212000\n",
      "Epoch  4, CIFAR-10 Batch 1:  Loss:     2.1520 Accuracy: 0.243400\n",
      "Epoch  5, CIFAR-10 Batch 1:  Loss:     2.1341 Accuracy: 0.272000\n",
      "Epoch  6, CIFAR-10 Batch 1:  Loss:     2.0253 Accuracy: 0.302200\n",
      "Epoch  7, CIFAR-10 Batch 1:  Loss:     1.9858 Accuracy: 0.316200\n",
      "Epoch  8, CIFAR-10 Batch 1:  Loss:     1.8670 Accuracy: 0.360600\n",
      "Epoch  9, CIFAR-10 Batch 1:  Loss:     1.8069 Accuracy: 0.373600\n",
      "Epoch 10, CIFAR-10 Batch 1:  Loss:     1.7106 Accuracy: 0.398000\n",
      "Epoch 11, CIFAR-10 Batch 1:  Loss:     1.6547 Accuracy: 0.398200\n",
      "Epoch 12, CIFAR-10 Batch 1:  Loss:     1.5959 Accuracy: 0.404200\n",
      "Epoch 13, CIFAR-10 Batch 1:  Loss:     1.5526 Accuracy: 0.426400\n",
      "Epoch 14, CIFAR-10 Batch 1:  Loss:     1.4775 Accuracy: 0.443000\n",
      "Epoch 15, CIFAR-10 Batch 1:  Loss:     1.4289 Accuracy: 0.453800\n",
      "Epoch 16, CIFAR-10 Batch 1:  Loss:     1.3745 Accuracy: 0.446800\n",
      "Epoch 17, CIFAR-10 Batch 1:  Loss:     1.3315 Accuracy: 0.468600\n",
      "Epoch 18, CIFAR-10 Batch 1:  Loss:     1.3113 Accuracy: 0.459600\n",
      "Epoch 19, CIFAR-10 Batch 1:  Loss:     1.2573 Accuracy: 0.481200\n",
      "Epoch 20, CIFAR-10 Batch 1:  Loss:     1.1779 Accuracy: 0.492000\n",
      "Epoch 21, CIFAR-10 Batch 1:  Loss:     1.1399 Accuracy: 0.495600\n",
      "Epoch 22, CIFAR-10 Batch 1:  Loss:     1.1244 Accuracy: 0.498600\n",
      "Epoch 23, CIFAR-10 Batch 1:  Loss:     1.0705 Accuracy: 0.506200\n",
      "Epoch 24, CIFAR-10 Batch 1:  Loss:     1.0151 Accuracy: 0.508800\n",
      "Epoch 25, CIFAR-10 Batch 1:  Loss:     1.0042 Accuracy: 0.517200\n",
      "Epoch 26, CIFAR-10 Batch 1:  Loss:     0.9381 Accuracy: 0.522600\n",
      "Epoch 27, CIFAR-10 Batch 1:  Loss:     0.9121 Accuracy: 0.524000\n",
      "Epoch 28, CIFAR-10 Batch 1:  Loss:     0.8854 Accuracy: 0.529400\n",
      "Epoch 29, CIFAR-10 Batch 1:  Loss:     0.8622 Accuracy: 0.529400\n",
      "Epoch 30, CIFAR-10 Batch 1:  Loss:     0.8280 Accuracy: 0.523200\n",
      "Epoch 31, CIFAR-10 Batch 1:  Loss:     0.7695 Accuracy: 0.541400\n",
      "Epoch 32, CIFAR-10 Batch 1:  Loss:     0.7375 Accuracy: 0.552000\n",
      "Epoch 33, CIFAR-10 Batch 1:  Loss:     0.6972 Accuracy: 0.554000\n",
      "Epoch 34, CIFAR-10 Batch 1:  Loss:     0.6919 Accuracy: 0.551200\n",
      "Epoch 35, CIFAR-10 Batch 1:  Loss:     0.6587 Accuracy: 0.559000\n",
      "Epoch 36, CIFAR-10 Batch 1:  Loss:     0.6239 Accuracy: 0.555600\n",
      "Epoch 37, CIFAR-10 Batch 1:  Loss:     0.5801 Accuracy: 0.561200\n",
      "Epoch 38, CIFAR-10 Batch 1:  Loss:     0.5470 Accuracy: 0.564400\n",
      "Epoch 39, CIFAR-10 Batch 1:  Loss:     0.5222 Accuracy: 0.566200\n",
      "Epoch 40, CIFAR-10 Batch 1:  Loss:     0.5274 Accuracy: 0.560600\n",
      "Epoch 41, CIFAR-10 Batch 1:  Loss:     0.4958 Accuracy: 0.568200\n",
      "Epoch 42, CIFAR-10 Batch 1:  Loss:     0.4631 Accuracy: 0.568600\n",
      "Epoch 43, CIFAR-10 Batch 1:  Loss:     0.4098 Accuracy: 0.578400\n",
      "Epoch 44, CIFAR-10 Batch 1:  Loss:     0.3978 Accuracy: 0.572400\n",
      "Epoch 45, CIFAR-10 Batch 1:  Loss:     0.3925 Accuracy: 0.573000\n",
      "Epoch 46, CIFAR-10 Batch 1:  Loss:     0.3787 Accuracy: 0.571800\n",
      "Epoch 47, CIFAR-10 Batch 1:  Loss:     0.3310 Accuracy: 0.577800\n",
      "Epoch 48, CIFAR-10 Batch 1:  Loss:     0.3533 Accuracy: 0.569000\n",
      "Epoch 49, CIFAR-10 Batch 1:  Loss:     0.3034 Accuracy: 0.582200\n",
      "Epoch 50, CIFAR-10 Batch 1:  Loss:     0.2959 Accuracy: 0.584400\n"
     ]
    }
   ],
   "source": [
    "\"\"\"\n",
    "DON'T MODIFY ANYTHING IN THIS CELL\n",
    "\"\"\"\n",
    "print('Checking the Training on a Single Batch...')\n",
    "with tf.Session() as sess:\n",
    "    # Initializing the variables\n",
    "    sess.run(tf.global_variables_initializer())\n",
    "    \n",
    "    # Training cycle\n",
    "    for epoch in range(epochs):\n",
    "        batch_i = 1\n",
    "        for batch_features, batch_labels in helper.load_preprocess_training_batch(batch_i, batch_size):\n",
    "            train_neural_network(sess, optimizer, keep_probability, batch_features, batch_labels)\n",
    "        print('Epoch {:>2}, CIFAR-10 Batch {}:  '.format(epoch + 1, batch_i), end='')\n",
    "        print_stats(sess, batch_features, batch_labels, cost, accuracy)"
   ]
  },
  {
   "cell_type": "markdown",
   "metadata": {},
   "source": [
    "### Fully Train the Model\n",
    "Now that you got a good accuracy with a single CIFAR-10 batch, try it with all five batches."
   ]
  },
  {
   "cell_type": "code",
   "execution_count": 363,
   "metadata": {
    "collapsed": false
   },
   "outputs": [
    {
     "name": "stdout",
     "output_type": "stream",
     "text": [
      "Training...\n",
      "Epoch  1, CIFAR-10 Batch 1:  Loss:     2.3695 Accuracy: 0.141000\n",
      "Epoch  1, CIFAR-10 Batch 2:  Loss:     2.2236 Accuracy: 0.179600\n",
      "Epoch  1, CIFAR-10 Batch 3:  Loss:     2.2352 Accuracy: 0.191600\n",
      "Epoch  1, CIFAR-10 Batch 4:  Loss:     2.1971 Accuracy: 0.204600\n",
      "Epoch  1, CIFAR-10 Batch 5:  Loss:     2.1053 Accuracy: 0.232800\n",
      "Epoch  2, CIFAR-10 Batch 1:  Loss:     2.0631 Accuracy: 0.260000\n",
      "Epoch  2, CIFAR-10 Batch 2:  Loss:     1.9803 Accuracy: 0.308600\n",
      "Epoch  2, CIFAR-10 Batch 3:  Loss:     1.9203 Accuracy: 0.325600\n",
      "Epoch  2, CIFAR-10 Batch 4:  Loss:     1.8604 Accuracy: 0.342000\n",
      "Epoch  2, CIFAR-10 Batch 5:  Loss:     1.8302 Accuracy: 0.365000\n",
      "Epoch  3, CIFAR-10 Batch 1:  Loss:     1.7743 Accuracy: 0.379000\n",
      "Epoch  3, CIFAR-10 Batch 2:  Loss:     1.7224 Accuracy: 0.390600\n",
      "Epoch  3, CIFAR-10 Batch 3:  Loss:     1.6518 Accuracy: 0.414600\n",
      "Epoch  3, CIFAR-10 Batch 4:  Loss:     1.6200 Accuracy: 0.413600\n",
      "Epoch  3, CIFAR-10 Batch 5:  Loss:     1.6053 Accuracy: 0.417600\n",
      "Epoch  4, CIFAR-10 Batch 1:  Loss:     1.5800 Accuracy: 0.434000\n",
      "Epoch  4, CIFAR-10 Batch 2:  Loss:     1.5632 Accuracy: 0.438600\n",
      "Epoch  4, CIFAR-10 Batch 3:  Loss:     1.4796 Accuracy: 0.449800\n",
      "Epoch  4, CIFAR-10 Batch 4:  Loss:     1.4911 Accuracy: 0.457800\n",
      "Epoch  4, CIFAR-10 Batch 5:  Loss:     1.4576 Accuracy: 0.460200\n",
      "Epoch  5, CIFAR-10 Batch 1:  Loss:     1.4738 Accuracy: 0.463800\n",
      "Epoch  5, CIFAR-10 Batch 2:  Loss:     1.4029 Accuracy: 0.481000\n",
      "Epoch  5, CIFAR-10 Batch 3:  Loss:     1.3552 Accuracy: 0.483600\n",
      "Epoch  5, CIFAR-10 Batch 4:  Loss:     1.3504 Accuracy: 0.499200\n",
      "Epoch  5, CIFAR-10 Batch 5:  Loss:     1.3247 Accuracy: 0.493200\n",
      "Epoch  6, CIFAR-10 Batch 1:  Loss:     1.3512 Accuracy: 0.505600\n",
      "Epoch  6, CIFAR-10 Batch 2:  Loss:     1.3323 Accuracy: 0.509200\n",
      "Epoch  6, CIFAR-10 Batch 3:  Loss:     1.2549 Accuracy: 0.512800\n",
      "Epoch  6, CIFAR-10 Batch 4:  Loss:     1.2600 Accuracy: 0.516800\n",
      "Epoch  6, CIFAR-10 Batch 5:  Loss:     1.2237 Accuracy: 0.527000\n",
      "Epoch  7, CIFAR-10 Batch 1:  Loss:     1.2552 Accuracy: 0.532000\n",
      "Epoch  7, CIFAR-10 Batch 2:  Loss:     1.2314 Accuracy: 0.530200\n",
      "Epoch  7, CIFAR-10 Batch 3:  Loss:     1.1532 Accuracy: 0.536200\n",
      "Epoch  7, CIFAR-10 Batch 4:  Loss:     1.1936 Accuracy: 0.530800\n",
      "Epoch  7, CIFAR-10 Batch 5:  Loss:     1.1480 Accuracy: 0.545000\n",
      "Epoch  8, CIFAR-10 Batch 1:  Loss:     1.1788 Accuracy: 0.553200\n",
      "Epoch  8, CIFAR-10 Batch 2:  Loss:     1.1543 Accuracy: 0.554800\n",
      "Epoch  8, CIFAR-10 Batch 3:  Loss:     1.0810 Accuracy: 0.556000\n",
      "Epoch  8, CIFAR-10 Batch 4:  Loss:     1.1118 Accuracy: 0.554000\n",
      "Epoch  8, CIFAR-10 Batch 5:  Loss:     1.0798 Accuracy: 0.559400\n",
      "Epoch  9, CIFAR-10 Batch 1:  Loss:     1.0954 Accuracy: 0.566000\n",
      "Epoch  9, CIFAR-10 Batch 2:  Loss:     1.0844 Accuracy: 0.577400\n",
      "Epoch  9, CIFAR-10 Batch 3:  Loss:     1.0134 Accuracy: 0.578400\n",
      "Epoch  9, CIFAR-10 Batch 4:  Loss:     1.0491 Accuracy: 0.574400\n",
      "Epoch  9, CIFAR-10 Batch 5:  Loss:     0.9885 Accuracy: 0.580400\n",
      "Epoch 10, CIFAR-10 Batch 1:  Loss:     1.0208 Accuracy: 0.587600\n",
      "Epoch 10, CIFAR-10 Batch 2:  Loss:     1.0003 Accuracy: 0.590200\n",
      "Epoch 10, CIFAR-10 Batch 3:  Loss:     0.9185 Accuracy: 0.594200\n",
      "Epoch 10, CIFAR-10 Batch 4:  Loss:     0.9580 Accuracy: 0.595800\n",
      "Epoch 10, CIFAR-10 Batch 5:  Loss:     0.9037 Accuracy: 0.591200\n",
      "Epoch 11, CIFAR-10 Batch 1:  Loss:     0.9434 Accuracy: 0.603400\n",
      "Epoch 11, CIFAR-10 Batch 2:  Loss:     0.9583 Accuracy: 0.599000\n",
      "Epoch 11, CIFAR-10 Batch 3:  Loss:     0.8964 Accuracy: 0.584800\n",
      "Epoch 11, CIFAR-10 Batch 4:  Loss:     0.9731 Accuracy: 0.579000\n",
      "Epoch 11, CIFAR-10 Batch 5:  Loss:     0.8623 Accuracy: 0.597600\n",
      "Epoch 12, CIFAR-10 Batch 1:  Loss:     0.9047 Accuracy: 0.606600\n",
      "Epoch 12, CIFAR-10 Batch 2:  Loss:     0.9060 Accuracy: 0.607000\n",
      "Epoch 12, CIFAR-10 Batch 3:  Loss:     0.9125 Accuracy: 0.582000\n",
      "Epoch 12, CIFAR-10 Batch 4:  Loss:     0.9602 Accuracy: 0.577400\n",
      "Epoch 12, CIFAR-10 Batch 5:  Loss:     0.8599 Accuracy: 0.603800\n",
      "Epoch 13, CIFAR-10 Batch 1:  Loss:     0.8933 Accuracy: 0.602600\n",
      "Epoch 13, CIFAR-10 Batch 2:  Loss:     0.8668 Accuracy: 0.615600\n",
      "Epoch 13, CIFAR-10 Batch 3:  Loss:     0.7511 Accuracy: 0.622200\n",
      "Epoch 13, CIFAR-10 Batch 4:  Loss:     0.8034 Accuracy: 0.631800\n",
      "Epoch 13, CIFAR-10 Batch 5:  Loss:     0.7421 Accuracy: 0.630600\n",
      "Epoch 14, CIFAR-10 Batch 1:  Loss:     0.7656 Accuracy: 0.629000\n",
      "Epoch 14, CIFAR-10 Batch 2:  Loss:     0.7876 Accuracy: 0.631200\n",
      "Epoch 14, CIFAR-10 Batch 3:  Loss:     0.7035 Accuracy: 0.631400\n",
      "Epoch 14, CIFAR-10 Batch 4:  Loss:     0.7480 Accuracy: 0.637400\n",
      "Epoch 14, CIFAR-10 Batch 5:  Loss:     0.6910 Accuracy: 0.633000\n",
      "Epoch 15, CIFAR-10 Batch 1:  Loss:     0.7221 Accuracy: 0.639200\n",
      "Epoch 15, CIFAR-10 Batch 2:  Loss:     0.7468 Accuracy: 0.640600\n",
      "Epoch 15, CIFAR-10 Batch 3:  Loss:     0.6617 Accuracy: 0.634600\n",
      "Epoch 15, CIFAR-10 Batch 4:  Loss:     0.7024 Accuracy: 0.641800\n",
      "Epoch 15, CIFAR-10 Batch 5:  Loss:     0.6528 Accuracy: 0.636200\n",
      "Epoch 16, CIFAR-10 Batch 1:  Loss:     0.6595 Accuracy: 0.648200\n",
      "Epoch 16, CIFAR-10 Batch 2:  Loss:     0.6659 Accuracy: 0.647600\n",
      "Epoch 16, CIFAR-10 Batch 3:  Loss:     0.6068 Accuracy: 0.651200\n",
      "Epoch 16, CIFAR-10 Batch 4:  Loss:     0.6430 Accuracy: 0.660400\n",
      "Epoch 16, CIFAR-10 Batch 5:  Loss:     0.6131 Accuracy: 0.646800\n",
      "Epoch 17, CIFAR-10 Batch 1:  Loss:     0.6111 Accuracy: 0.649200\n",
      "Epoch 17, CIFAR-10 Batch 2:  Loss:     0.6493 Accuracy: 0.641000\n",
      "Epoch 17, CIFAR-10 Batch 3:  Loss:     0.5647 Accuracy: 0.651800\n",
      "Epoch 17, CIFAR-10 Batch 4:  Loss:     0.6136 Accuracy: 0.653000\n",
      "Epoch 17, CIFAR-10 Batch 5:  Loss:     0.5632 Accuracy: 0.656600\n",
      "Epoch 18, CIFAR-10 Batch 1:  Loss:     0.5621 Accuracy: 0.652000\n",
      "Epoch 18, CIFAR-10 Batch 2:  Loss:     0.6395 Accuracy: 0.635600\n",
      "Epoch 18, CIFAR-10 Batch 3:  Loss:     0.5892 Accuracy: 0.638600\n",
      "Epoch 18, CIFAR-10 Batch 4:  Loss:     0.5797 Accuracy: 0.637400\n",
      "Epoch 18, CIFAR-10 Batch 5:  Loss:     0.5636 Accuracy: 0.650200\n",
      "Epoch 19, CIFAR-10 Batch 1:  Loss:     0.5254 Accuracy: 0.657600\n",
      "Epoch 19, CIFAR-10 Batch 2:  Loss:     0.5795 Accuracy: 0.646400\n",
      "Epoch 19, CIFAR-10 Batch 3:  Loss:     0.5191 Accuracy: 0.656400\n",
      "Epoch 19, CIFAR-10 Batch 4:  Loss:     0.5615 Accuracy: 0.642600\n",
      "Epoch 19, CIFAR-10 Batch 5:  Loss:     0.5398 Accuracy: 0.641600\n",
      "Epoch 20, CIFAR-10 Batch 1:  Loss:     0.5313 Accuracy: 0.642000\n",
      "Epoch 20, CIFAR-10 Batch 2:  Loss:     0.5872 Accuracy: 0.629000\n",
      "Epoch 20, CIFAR-10 Batch 3:  Loss:     0.5167 Accuracy: 0.648600\n",
      "Epoch 20, CIFAR-10 Batch 4:  Loss:     0.5366 Accuracy: 0.650400\n",
      "Epoch 20, CIFAR-10 Batch 5:  Loss:     0.4911 Accuracy: 0.652800\n",
      "Epoch 21, CIFAR-10 Batch 1:  Loss:     0.4537 Accuracy: 0.676200\n",
      "Epoch 21, CIFAR-10 Batch 2:  Loss:     0.4971 Accuracy: 0.663200\n",
      "Epoch 21, CIFAR-10 Batch 3:  Loss:     0.4569 Accuracy: 0.667800\n",
      "Epoch 21, CIFAR-10 Batch 4:  Loss:     0.4601 Accuracy: 0.666800\n",
      "Epoch 21, CIFAR-10 Batch 5:  Loss:     0.4604 Accuracy: 0.650800\n",
      "Epoch 22, CIFAR-10 Batch 1:  Loss:     0.4274 Accuracy: 0.679200\n",
      "Epoch 22, CIFAR-10 Batch 2:  Loss:     0.4628 Accuracy: 0.668200\n",
      "Epoch 22, CIFAR-10 Batch 3:  Loss:     0.4456 Accuracy: 0.658800\n",
      "Epoch 22, CIFAR-10 Batch 4:  Loss:     0.4070 Accuracy: 0.673400\n",
      "Epoch 22, CIFAR-10 Batch 5:  Loss:     0.3759 Accuracy: 0.669400\n",
      "Epoch 23, CIFAR-10 Batch 1:  Loss:     0.4023 Accuracy: 0.672200\n",
      "Epoch 23, CIFAR-10 Batch 2:  Loss:     0.3908 Accuracy: 0.674000\n",
      "Epoch 23, CIFAR-10 Batch 3:  Loss:     0.3951 Accuracy: 0.664800\n",
      "Epoch 23, CIFAR-10 Batch 4:  Loss:     0.3874 Accuracy: 0.657400\n",
      "Epoch 23, CIFAR-10 Batch 5:  Loss:     0.3676 Accuracy: 0.660200\n",
      "Epoch 24, CIFAR-10 Batch 1:  Loss:     0.3769 Accuracy: 0.673600\n",
      "Epoch 24, CIFAR-10 Batch 2:  Loss:     0.3628 Accuracy: 0.676000\n",
      "Epoch 24, CIFAR-10 Batch 3:  Loss:     0.3541 Accuracy: 0.674800\n",
      "Epoch 24, CIFAR-10 Batch 4:  Loss:     0.3450 Accuracy: 0.673200\n",
      "Epoch 24, CIFAR-10 Batch 5:  Loss:     0.3034 Accuracy: 0.687800\n",
      "Epoch 25, CIFAR-10 Batch 1:  Loss:     0.3195 Accuracy: 0.691600\n",
      "Epoch 25, CIFAR-10 Batch 2:  Loss:     0.3182 Accuracy: 0.687800\n",
      "Epoch 25, CIFAR-10 Batch 3:  Loss:     0.2997 Accuracy: 0.694400\n",
      "Epoch 25, CIFAR-10 Batch 4:  Loss:     0.3095 Accuracy: 0.681400\n",
      "Epoch 25, CIFAR-10 Batch 5:  Loss:     0.2813 Accuracy: 0.679400\n",
      "Epoch 26, CIFAR-10 Batch 1:  Loss:     0.2797 Accuracy: 0.687200\n",
      "Epoch 26, CIFAR-10 Batch 2:  Loss:     0.2839 Accuracy: 0.687600\n",
      "Epoch 26, CIFAR-10 Batch 3:  Loss:     0.2809 Accuracy: 0.684200\n",
      "Epoch 26, CIFAR-10 Batch 4:  Loss:     0.2990 Accuracy: 0.665000\n",
      "Epoch 26, CIFAR-10 Batch 5:  Loss:     0.2595 Accuracy: 0.679600\n",
      "Epoch 27, CIFAR-10 Batch 1:  Loss:     0.2625 Accuracy: 0.691800\n",
      "Epoch 27, CIFAR-10 Batch 2:  Loss:     0.2509 Accuracy: 0.690000\n",
      "Epoch 27, CIFAR-10 Batch 3:  Loss:     0.2478 Accuracy: 0.684400\n",
      "Epoch 27, CIFAR-10 Batch 4:  Loss:     0.2495 Accuracy: 0.676000\n",
      "Epoch 27, CIFAR-10 Batch 5:  Loss:     0.2234 Accuracy: 0.682000\n",
      "Epoch 28, CIFAR-10 Batch 1:  Loss:     0.2427 Accuracy: 0.689000\n",
      "Epoch 28, CIFAR-10 Batch 2:  Loss:     0.2456 Accuracy: 0.690000\n",
      "Epoch 28, CIFAR-10 Batch 3:  Loss:     0.2184 Accuracy: 0.696400\n",
      "Epoch 28, CIFAR-10 Batch 4:  Loss:     0.2072 Accuracy: 0.690800\n",
      "Epoch 28, CIFAR-10 Batch 5:  Loss:     0.2130 Accuracy: 0.688000\n",
      "Epoch 29, CIFAR-10 Batch 1:  Loss:     0.2445 Accuracy: 0.687800\n",
      "Epoch 29, CIFAR-10 Batch 2:  Loss:     0.2294 Accuracy: 0.688400\n",
      "Epoch 29, CIFAR-10 Batch 3:  Loss:     0.1943 Accuracy: 0.696400\n",
      "Epoch 29, CIFAR-10 Batch 4:  Loss:     0.2374 Accuracy: 0.655200\n",
      "Epoch 29, CIFAR-10 Batch 5:  Loss:     0.1929 Accuracy: 0.689400\n",
      "Epoch 30, CIFAR-10 Batch 1:  Loss:     0.2259 Accuracy: 0.687200\n",
      "Epoch 30, CIFAR-10 Batch 2:  Loss:     0.2018 Accuracy: 0.698600\n",
      "Epoch 30, CIFAR-10 Batch 3:  Loss:     0.2095 Accuracy: 0.686600\n",
      "Epoch 30, CIFAR-10 Batch 4:  Loss:     0.2002 Accuracy: 0.683400\n",
      "Epoch 30, CIFAR-10 Batch 5:  Loss:     0.1942 Accuracy: 0.687200\n",
      "Epoch 31, CIFAR-10 Batch 1:  Loss:     0.2004 Accuracy: 0.685000\n",
      "Epoch 31, CIFAR-10 Batch 2:  Loss:     0.2046 Accuracy: 0.687200\n",
      "Epoch 31, CIFAR-10 Batch 3:  Loss:     0.1928 Accuracy: 0.685200\n",
      "Epoch 31, CIFAR-10 Batch 4:  Loss:     0.1705 Accuracy: 0.696400\n",
      "Epoch 31, CIFAR-10 Batch 5:  Loss:     0.1572 Accuracy: 0.689600\n",
      "Epoch 32, CIFAR-10 Batch 1:  Loss:     0.1887 Accuracy: 0.691000\n",
      "Epoch 32, CIFAR-10 Batch 2:  Loss:     0.2252 Accuracy: 0.672400\n",
      "Epoch 32, CIFAR-10 Batch 3:  Loss:     0.1965 Accuracy: 0.682400\n",
      "Epoch 32, CIFAR-10 Batch 4:  Loss:     0.1812 Accuracy: 0.675600\n",
      "Epoch 32, CIFAR-10 Batch 5:  Loss:     0.1820 Accuracy: 0.674200\n",
      "Epoch 33, CIFAR-10 Batch 1:  Loss:     0.1907 Accuracy: 0.699400\n",
      "Epoch 33, CIFAR-10 Batch 2:  Loss:     0.2089 Accuracy: 0.675600\n",
      "Epoch 33, CIFAR-10 Batch 3:  Loss:     0.1542 Accuracy: 0.703000\n",
      "Epoch 33, CIFAR-10 Batch 4:  Loss:     0.1413 Accuracy: 0.694800\n",
      "Epoch 33, CIFAR-10 Batch 5:  Loss:     0.1412 Accuracy: 0.698800\n",
      "Epoch 34, CIFAR-10 Batch 1:  Loss:     0.1757 Accuracy: 0.686000\n",
      "Epoch 34, CIFAR-10 Batch 2:  Loss:     0.1859 Accuracy: 0.676000\n",
      "Epoch 34, CIFAR-10 Batch 3:  Loss:     0.1519 Accuracy: 0.688800\n",
      "Epoch 34, CIFAR-10 Batch 4:  Loss:     0.1290 Accuracy: 0.687200\n",
      "Epoch 34, CIFAR-10 Batch 5:  Loss:     0.1106 Accuracy: 0.698800\n",
      "Epoch 35, CIFAR-10 Batch 1:  Loss:     0.1375 Accuracy: 0.704200\n",
      "Epoch 35, CIFAR-10 Batch 2:  Loss:     0.1518 Accuracy: 0.681800\n",
      "Epoch 35, CIFAR-10 Batch 3:  Loss:     0.1258 Accuracy: 0.697200\n",
      "Epoch 35, CIFAR-10 Batch 4:  Loss:     0.1494 Accuracy: 0.656400\n",
      "Epoch 35, CIFAR-10 Batch 5:  Loss:     0.1211 Accuracy: 0.697200\n",
      "Epoch 36, CIFAR-10 Batch 1:  Loss:     0.1401 Accuracy: 0.687400\n",
      "Epoch 36, CIFAR-10 Batch 2:  Loss:     0.1408 Accuracy: 0.688400\n",
      "Epoch 36, CIFAR-10 Batch 3:  Loss:     0.1327 Accuracy: 0.694800\n",
      "Epoch 36, CIFAR-10 Batch 4:  Loss:     0.1045 Accuracy: 0.687400\n",
      "Epoch 36, CIFAR-10 Batch 5:  Loss:     0.0980 Accuracy: 0.706400\n",
      "Epoch 37, CIFAR-10 Batch 1:  Loss:     0.1273 Accuracy: 0.700800\n",
      "Epoch 37, CIFAR-10 Batch 2:  Loss:     0.1343 Accuracy: 0.700200\n",
      "Epoch 37, CIFAR-10 Batch 3:  Loss:     0.1261 Accuracy: 0.689200\n",
      "Epoch 37, CIFAR-10 Batch 4:  Loss:     0.0999 Accuracy: 0.679800\n",
      "Epoch 37, CIFAR-10 Batch 5:  Loss:     0.1270 Accuracy: 0.683000\n",
      "Epoch 38, CIFAR-10 Batch 1:  Loss:     0.1119 Accuracy: 0.690600\n",
      "Epoch 38, CIFAR-10 Batch 2:  Loss:     0.1381 Accuracy: 0.693600\n",
      "Epoch 38, CIFAR-10 Batch 3:  Loss:     0.1162 Accuracy: 0.701200\n",
      "Epoch 38, CIFAR-10 Batch 4:  Loss:     0.0930 Accuracy: 0.708000\n",
      "Epoch 38, CIFAR-10 Batch 5:  Loss:     0.0872 Accuracy: 0.693800\n",
      "Epoch 39, CIFAR-10 Batch 1:  Loss:     0.1318 Accuracy: 0.691800\n",
      "Epoch 39, CIFAR-10 Batch 2:  Loss:     0.1239 Accuracy: 0.688600\n",
      "Epoch 39, CIFAR-10 Batch 3:  Loss:     0.0935 Accuracy: 0.702200\n",
      "Epoch 39, CIFAR-10 Batch 4:  Loss:     0.0666 Accuracy: 0.701200\n",
      "Epoch 39, CIFAR-10 Batch 5:  Loss:     0.0609 Accuracy: 0.706600\n",
      "Epoch 40, CIFAR-10 Batch 1:  Loss:     0.1031 Accuracy: 0.700000\n",
      "Epoch 40, CIFAR-10 Batch 2:  Loss:     0.0865 Accuracy: 0.701600\n",
      "Epoch 40, CIFAR-10 Batch 3:  Loss:     0.0809 Accuracy: 0.685200\n",
      "Epoch 40, CIFAR-10 Batch 4:  Loss:     0.0618 Accuracy: 0.703400\n",
      "Epoch 40, CIFAR-10 Batch 5:  Loss:     0.0604 Accuracy: 0.704800\n",
      "Epoch 41, CIFAR-10 Batch 1:  Loss:     0.0851 Accuracy: 0.712000\n",
      "Epoch 41, CIFAR-10 Batch 2:  Loss:     0.0647 Accuracy: 0.716400\n",
      "Epoch 41, CIFAR-10 Batch 3:  Loss:     0.0686 Accuracy: 0.707200\n",
      "Epoch 41, CIFAR-10 Batch 4:  Loss:     0.0495 Accuracy: 0.698200\n",
      "Epoch 41, CIFAR-10 Batch 5:  Loss:     0.0462 Accuracy: 0.707800\n",
      "Epoch 42, CIFAR-10 Batch 1:  Loss:     0.0720 Accuracy: 0.713400\n",
      "Epoch 42, CIFAR-10 Batch 2:  Loss:     0.0584 Accuracy: 0.702200\n",
      "Epoch 42, CIFAR-10 Batch 3:  Loss:     0.0718 Accuracy: 0.699800\n",
      "Epoch 42, CIFAR-10 Batch 4:  Loss:     0.0396 Accuracy: 0.712800\n",
      "Epoch 42, CIFAR-10 Batch 5:  Loss:     0.0449 Accuracy: 0.702200\n",
      "Epoch 43, CIFAR-10 Batch 1:  Loss:     0.0663 Accuracy: 0.710200\n",
      "Epoch 43, CIFAR-10 Batch 2:  Loss:     0.0686 Accuracy: 0.688600\n",
      "Epoch 43, CIFAR-10 Batch 3:  Loss:     0.0536 Accuracy: 0.706000\n",
      "Epoch 43, CIFAR-10 Batch 4:  Loss:     0.0414 Accuracy: 0.710400\n",
      "Epoch 43, CIFAR-10 Batch 5:  Loss:     0.0372 Accuracy: 0.707400\n",
      "Epoch 44, CIFAR-10 Batch 1:  Loss:     0.0535 Accuracy: 0.711400\n",
      "Epoch 44, CIFAR-10 Batch 2:  Loss:     0.0484 Accuracy: 0.707600\n",
      "Epoch 44, CIFAR-10 Batch 3:  Loss:     0.0393 Accuracy: 0.708400\n",
      "Epoch 44, CIFAR-10 Batch 4:  Loss:     0.0337 Accuracy: 0.713400\n",
      "Epoch 44, CIFAR-10 Batch 5:  Loss:     0.0347 Accuracy: 0.699200\n",
      "Epoch 45, CIFAR-10 Batch 1:  Loss:     0.0451 Accuracy: 0.711400\n",
      "Epoch 45, CIFAR-10 Batch 2:  Loss:     0.0418 Accuracy: 0.706200\n",
      "Epoch 45, CIFAR-10 Batch 3:  Loss:     0.0359 Accuracy: 0.705200\n",
      "Epoch 45, CIFAR-10 Batch 4:  Loss:     0.0344 Accuracy: 0.708400\n",
      "Epoch 45, CIFAR-10 Batch 5:  Loss:     0.0477 Accuracy: 0.684400\n",
      "Epoch 46, CIFAR-10 Batch 1:  Loss:     0.0453 Accuracy: 0.705200\n",
      "Epoch 46, CIFAR-10 Batch 2:  Loss:     0.0473 Accuracy: 0.707000\n",
      "Epoch 46, CIFAR-10 Batch 3:  Loss:     0.0362 Accuracy: 0.707400\n",
      "Epoch 46, CIFAR-10 Batch 4:  Loss:     0.0300 Accuracy: 0.709800\n",
      "Epoch 46, CIFAR-10 Batch 5:  Loss:     0.0325 Accuracy: 0.693800\n",
      "Epoch 47, CIFAR-10 Batch 1:  Loss:     0.0418 Accuracy: 0.707000\n",
      "Epoch 47, CIFAR-10 Batch 2:  Loss:     0.0517 Accuracy: 0.703000\n",
      "Epoch 47, CIFAR-10 Batch 3:  Loss:     0.0347 Accuracy: 0.706600\n",
      "Epoch 47, CIFAR-10 Batch 4:  Loss:     0.0433 Accuracy: 0.689800\n",
      "Epoch 47, CIFAR-10 Batch 5:  Loss:     0.0516 Accuracy: 0.675000\n",
      "Epoch 48, CIFAR-10 Batch 1:  Loss:     0.0758 Accuracy: 0.685800\n",
      "Epoch 48, CIFAR-10 Batch 2:  Loss:     0.0501 Accuracy: 0.697400\n",
      "Epoch 48, CIFAR-10 Batch 3:  Loss:     0.0503 Accuracy: 0.699200\n",
      "Epoch 48, CIFAR-10 Batch 4:  Loss:     0.0300 Accuracy: 0.713400\n",
      "Epoch 48, CIFAR-10 Batch 5:  Loss:     0.0305 Accuracy: 0.704000\n",
      "Epoch 49, CIFAR-10 Batch 1:  Loss:     0.0368 Accuracy: 0.706600\n",
      "Epoch 49, CIFAR-10 Batch 2:  Loss:     0.0469 Accuracy: 0.703200\n",
      "Epoch 49, CIFAR-10 Batch 3:  Loss:     0.0289 Accuracy: 0.705200\n",
      "Epoch 49, CIFAR-10 Batch 4:  Loss:     0.0226 Accuracy: 0.717600\n",
      "Epoch 49, CIFAR-10 Batch 5:  Loss:     0.0172 Accuracy: 0.717400\n",
      "Epoch 50, CIFAR-10 Batch 1:  Loss:     0.0311 Accuracy: 0.719400\n",
      "Epoch 50, CIFAR-10 Batch 2:  Loss:     0.0283 Accuracy: 0.711200\n",
      "Epoch 50, CIFAR-10 Batch 3:  Loss:     0.0236 Accuracy: 0.718200\n",
      "Epoch 50, CIFAR-10 Batch 4:  Loss:     0.0200 Accuracy: 0.707000\n",
      "Epoch 50, CIFAR-10 Batch 5:  Loss:     0.0138 Accuracy: 0.713600\n"
     ]
    }
   ],
   "source": [
    "\"\"\"\n",
    "DON'T MODIFY ANYTHING IN THIS CELL\n",
    "\"\"\"\n",
    "save_model_path = './image_classification'\n",
    "\n",
    "print('Training...')\n",
    "with tf.Session() as sess:\n",
    "    # Initializing the variables\n",
    "    sess.run(tf.global_variables_initializer())\n",
    "    \n",
    "    # Training cycle\n",
    "    for epoch in range(epochs):\n",
    "        # Loop over all batches\n",
    "        n_batches = 5\n",
    "        for batch_i in range(1, n_batches + 1):\n",
    "            for batch_features, batch_labels in helper.load_preprocess_training_batch(batch_i, batch_size):\n",
    "                train_neural_network(sess, optimizer, keep_probability, batch_features, batch_labels)\n",
    "            print('Epoch {:>2}, CIFAR-10 Batch {}:  '.format(epoch + 1, batch_i), end='')\n",
    "            print_stats(sess, batch_features, batch_labels, cost, accuracy)\n",
    "            \n",
    "    # Save Model\n",
    "    saver = tf.train.Saver()\n",
    "    save_path = saver.save(sess, save_model_path)"
   ]
  },
  {
   "cell_type": "markdown",
   "metadata": {},
   "source": [
    "# Checkpoint\n",
    "The model has been saved to disk.\n",
    "## Test Model\n",
    "Test your model against the test dataset.  This will be your final accuracy. You should have an accuracy greater than 50%. If you don't, keep tweaking the model architecture and parameters."
   ]
  },
  {
   "cell_type": "code",
   "execution_count": 364,
   "metadata": {
    "collapsed": false
   },
   "outputs": [
    {
     "name": "stdout",
     "output_type": "stream",
     "text": [
      "Testing Accuracy: 0.7126546978950501\n",
      "\n"
     ]
    },
    {
     "data": {
      "image/png": "[encoded data removed]",
      "text/plain": [
       "<matplotlib.figure.Figure at 0x7f438c117b38>"
      ]
     },
     "metadata": {
      "image/png": {
       "height": 319,
       "width": 355
      }
     },
     "output_type": "display_data"
    }
   ],
   "source": [
    "\"\"\"\n",
    "DON'T MODIFY ANYTHING IN THIS CELL\n",
    "\"\"\"\n",
    "%matplotlib inline\n",
    "%config InlineBackend.figure_format = 'retina'\n",
    "\n",
    "import tensorflow as tf\n",
    "import pickle\n",
    "import helper\n",
    "import random\n",
    "\n",
    "# Set batch size if not already set\n",
    "try:\n",
    "    if batch_size:\n",
    "        pass\n",
    "except NameError:\n",
    "    batch_size = 64\n",
    "\n",
    "save_model_path = './image_classification'\n",
    "n_samples = 4\n",
    "top_n_predictions = 3\n",
    "\n",
    "def test_model():\n",
    "    \"\"\"\n",
    "    Test the saved model against the test dataset\n",
    "    \"\"\"\n",
    "\n",
    "    test_features, test_labels = pickle.load(open('preprocess_training.p', mode='rb'))\n",
    "    loaded_graph = tf.Graph()\n",
    "\n",
    "    with tf.Session(graph=loaded_graph) as sess:\n",
    "        # Load model\n",
    "        loader = tf.train.import_meta_graph(save_model_path + '.meta')\n",
    "        loader.restore(sess, save_model_path)\n",
    "\n",
    "        # Get Tensors from loaded model\n",
    "        loaded_x = loaded_graph.get_tensor_by_name('x:0')\n",
    "        loaded_y = loaded_graph.get_tensor_by_name('y:0')\n",
    "        loaded_keep_prob = loaded_graph.get_tensor_by_name('keep_prob:0')\n",
    "        loaded_logits = loaded_graph.get_tensor_by_name('logits:0')\n",
    "        loaded_acc = loaded_graph.get_tensor_by_name('accuracy:0')\n",
    "        \n",
    "        # Get accuracy in batches for memory limitations\n",
    "        test_batch_acc_total = 0\n",
    "        test_batch_count = 0\n",
    "        \n",
    "        for train_feature_batch, train_label_batch in helper.batch_features_labels(test_features, test_labels, batch_size):\n",
    "            test_batch_acc_total += sess.run(\n",
    "                loaded_acc,\n",
    "                feed_dict={loaded_x: train_feature_batch, loaded_y: train_label_batch, loaded_keep_prob: 1.0})\n",
    "            test_batch_count += 1\n",
    "\n",
    "        print('Testing Accuracy: {}\\n'.format(test_batch_acc_total/test_batch_count))\n",
    "\n",
    "        # Print Random Samples\n",
    "        random_test_features, random_test_labels = tuple(zip(*random.sample(list(zip(test_features, test_labels)), n_samples)))\n",
    "        random_test_predictions = sess.run(\n",
    "            tf.nn.top_k(tf.nn.softmax(loaded_logits), top_n_predictions),\n",
    "            feed_dict={loaded_x: random_test_features, loaded_y: random_test_labels, loaded_keep_prob: 1.0})\n",
    "        helper.display_image_predictions(random_test_features, random_test_labels, random_test_predictions)\n",
    "\n",
    "\n",
    "test_model()"
   ]
  },
  {
   "cell_type": "markdown",
   "metadata": {},
   "source": [
    "## Why 50-70% Accuracy?\n",
    "You might be wondering why you can't get an accuracy any higher. First things first, 50% isn't bad for a simple CNN.  Pure guessing would get you 10% accuracy. However, you might notice people are getting scores [well above 70%](http://rodrigob.github.io/are_we_there_yet/build/classification_datasets_results.html#43494641522d3130).  That's because we haven't taught you all there is to know about neural networks. We still need to cover a few more techniques.\n",
    "## Submitting This Project\n",
    "When submitting this project, make sure to run all the cells before saving the notebook.  Save the notebook file as \"dlnd_image_classification.ipynb\" and save it as a HTML file under \"File\" -> \"Download as\".  Include the \"helper.py\" and \"problem_unittests.py\" files in your submission."
   ]
  }
 ],
 "metadata": {
  "kernelspec": {
   "display_name": "Python [default]",
   "language": "python",
   "name": "python3"
  },
  "language_info": {
   "codemirror_mode": {
    "name": "ipython",
    "version": 3
   },
   "file_extension": ".py",
   "mimetype": "text/x-python",
   "name": "python",
   "nbconvert_exporter": "python",
   "pygments_lexer": "ipython3",
   "version": "3.5.2"
  }
 },
 "nbformat": 4,
 "nbformat_minor": 0
}
